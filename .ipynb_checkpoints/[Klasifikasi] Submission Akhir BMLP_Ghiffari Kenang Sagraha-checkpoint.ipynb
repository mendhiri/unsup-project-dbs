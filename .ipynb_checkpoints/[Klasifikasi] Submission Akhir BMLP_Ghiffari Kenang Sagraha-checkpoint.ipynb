{
 "cells": [
  {
   "cell_type": "markdown",
   "id": "1060c5e6-ddea-4a18-ac7d-2169133e0b93",
   "metadata": {},
   "source": [
    "# Proyek Analisis Data: Clustering"
   ]
  },
  {
   "cell_type": "markdown",
   "id": "44abb8d8-dc10-46cf-a0fa-9576f9102728",
   "metadata": {},
   "source": [
    "**Nama:** Ghiffari Kenang Sagraha \\\n",
    "**Email:** ghiffarisagraha@apps.ipb.ac.id \\\n",
    "**ID Dicoding:** ghiffariks"
   ]
  },
  {
   "cell_type": "markdown",
   "id": "cc9a7bf9-68a5-4dd8-88f7-7022f0f4bc37",
   "metadata": {},
   "source": [
    "# 1. Import Library"
   ]
  },
  {
   "cell_type": "code",
   "execution_count": 1,
   "id": "4de1c5dc-7824-4072-92f9-9c95d43c38e2",
   "metadata": {},
   "outputs": [],
   "source": [
    "import pandas as pd\n",
    "import numpy as np\n",
    "import seaborn as sns\n",
    "import matplotlib.pyplot as plt\n",
    "from sklearn.model_selection import train_test_split, StratifiedKFold, cross_validate\n",
    "from sklearn.preprocessing import LabelEncoder, StandardScaler, MinMaxScaler, OneHotEncoder\n",
    "from sklearn.neighbors import KNeighborsClassifier\n",
    "from sklearn.tree import DecisionTreeClassifier\n",
    "from sklearn.ensemble import RandomForestClassifier\n",
    "from sklearn.svm import SVC\n",
    "from sklearn.naive_bayes import GaussianNB\n",
    "from sklearn.metrics import confusion_matrix, accuracy_score, precision_score, recall_score, f1_score, make_scorer"
   ]
  },
  {
   "cell_type": "code",
   "execution_count": 2,
   "id": "7c9d9dca-a5e5-4743-b23d-a55aada39ac5",
   "metadata": {},
   "outputs": [],
   "source": [
    "import warnings\n",
    "warnings.simplefilter(action='ignore', category=FutureWarning)\n",
    "warnings.simplefilter(action='ignore', category=UserWarning)"
   ]
  },
  {
   "cell_type": "markdown",
   "id": "8c635f81-fab2-4e11-9637-0dd564309a41",
   "metadata": {},
   "source": [
    "# 2. Memuat Dataset hasil Clustering"
   ]
  },
  {
   "cell_type": "code",
   "execution_count": 3,
   "id": "2e04861d-e0ad-4435-9b08-491301936e46",
   "metadata": {},
   "outputs": [],
   "source": [
    "df = pd.read_csv('Dataset_inisiasi.csv')"
   ]
  },
  {
   "cell_type": "code",
   "execution_count": 4,
   "id": "65cfebfe-b3ea-4043-8657-41c862f11011",
   "metadata": {},
   "outputs": [
    {
     "data": {
      "text/html": [
       "<div>\n",
       "<style scoped>\n",
       "    .dataframe tbody tr th:only-of-type {\n",
       "        vertical-align: middle;\n",
       "    }\n",
       "\n",
       "    .dataframe tbody tr th {\n",
       "        vertical-align: top;\n",
       "    }\n",
       "\n",
       "    .dataframe thead th {\n",
       "        text-align: right;\n",
       "    }\n",
       "</style>\n",
       "<table border=\"1\" class=\"dataframe\">\n",
       "  <thead>\n",
       "    <tr style=\"text-align: right;\">\n",
       "      <th></th>\n",
       "      <th>Customer_ID</th>\n",
       "      <th>Age</th>\n",
       "      <th>Location</th>\n",
       "      <th>Income_Level</th>\n",
       "      <th>Total_Transactions</th>\n",
       "      <th>Avg_Transaction_Value</th>\n",
       "      <th>Max_Transaction_Value</th>\n",
       "      <th>Min_Transaction_Value</th>\n",
       "      <th>Total_Spent</th>\n",
       "      <th>Active_Days</th>\n",
       "      <th>...</th>\n",
       "      <th>Loyalty_Points_Earned</th>\n",
       "      <th>Referral_Count</th>\n",
       "      <th>Cashback_Received</th>\n",
       "      <th>App_Usage_Frequency</th>\n",
       "      <th>Preferred_Payment_Method</th>\n",
       "      <th>Support_Tickets_Raised</th>\n",
       "      <th>Issue_Resolution_Time</th>\n",
       "      <th>Customer_Satisfaction_Score</th>\n",
       "      <th>LTV</th>\n",
       "      <th>Cluster</th>\n",
       "    </tr>\n",
       "  </thead>\n",
       "  <tbody>\n",
       "    <tr>\n",
       "      <th>0</th>\n",
       "      <td>cust_0000</td>\n",
       "      <td>54.0</td>\n",
       "      <td>Urban</td>\n",
       "      <td>Low</td>\n",
       "      <td>192.0</td>\n",
       "      <td>16736.384023</td>\n",
       "      <td>60216.834510</td>\n",
       "      <td>6525.814861</td>\n",
       "      <td>3.213386e+06</td>\n",
       "      <td>140.0</td>\n",
       "      <td>...</td>\n",
       "      <td>2114.0</td>\n",
       "      <td>25.0</td>\n",
       "      <td>2224.012140</td>\n",
       "      <td>Monthly</td>\n",
       "      <td>Debit Card</td>\n",
       "      <td>3.0</td>\n",
       "      <td>61.568590</td>\n",
       "      <td>1.0</td>\n",
       "      <td>3.279546e+05</td>\n",
       "      <td>1</td>\n",
       "    </tr>\n",
       "    <tr>\n",
       "      <th>1</th>\n",
       "      <td>cust_0001</td>\n",
       "      <td>67.0</td>\n",
       "      <td>Suburban</td>\n",
       "      <td>High</td>\n",
       "      <td>979.0</td>\n",
       "      <td>14536.734683</td>\n",
       "      <td>48350.100272</td>\n",
       "      <td>2186.742245</td>\n",
       "      <td>1.423146e+07</td>\n",
       "      <td>229.0</td>\n",
       "      <td>...</td>\n",
       "      <td>2960.0</td>\n",
       "      <td>20.0</td>\n",
       "      <td>4026.823518</td>\n",
       "      <td>Monthly</td>\n",
       "      <td>UPI</td>\n",
       "      <td>17.0</td>\n",
       "      <td>60.392889</td>\n",
       "      <td>8.0</td>\n",
       "      <td>1.437053e+06</td>\n",
       "      <td>2</td>\n",
       "    </tr>\n",
       "    <tr>\n",
       "      <th>2</th>\n",
       "      <td>cust_0002</td>\n",
       "      <td>44.0</td>\n",
       "      <td>Urban</td>\n",
       "      <td>High</td>\n",
       "      <td>329.0</td>\n",
       "      <td>7061.372800</td>\n",
       "      <td>32521.157187</td>\n",
       "      <td>2743.406808</td>\n",
       "      <td>2.323192e+06</td>\n",
       "      <td>73.0</td>\n",
       "      <td>...</td>\n",
       "      <td>3170.0</td>\n",
       "      <td>0.0</td>\n",
       "      <td>1441.011395</td>\n",
       "      <td>Monthly</td>\n",
       "      <td>Debit Card</td>\n",
       "      <td>11.0</td>\n",
       "      <td>45.305579</td>\n",
       "      <td>4.0</td>\n",
       "      <td>2.419387e+05</td>\n",
       "      <td>1</td>\n",
       "    </tr>\n",
       "    <tr>\n",
       "      <th>3</th>\n",
       "      <td>cust_0003</td>\n",
       "      <td>30.0</td>\n",
       "      <td>Rural</td>\n",
       "      <td>High</td>\n",
       "      <td>71.0</td>\n",
       "      <td>16426.876453</td>\n",
       "      <td>17827.896720</td>\n",
       "      <td>4360.784994</td>\n",
       "      <td>1.166308e+06</td>\n",
       "      <td>299.0</td>\n",
       "      <td>...</td>\n",
       "      <td>4756.0</td>\n",
       "      <td>35.0</td>\n",
       "      <td>4365.855580</td>\n",
       "      <td>Weekly</td>\n",
       "      <td>Wallet Balance</td>\n",
       "      <td>6.0</td>\n",
       "      <td>22.030191</td>\n",
       "      <td>1.0</td>\n",
       "      <td>1.284599e+05</td>\n",
       "      <td>1</td>\n",
       "    </tr>\n",
       "    <tr>\n",
       "      <th>4</th>\n",
       "      <td>cust_0004</td>\n",
       "      <td>58.0</td>\n",
       "      <td>Urban</td>\n",
       "      <td>Middle</td>\n",
       "      <td>878.0</td>\n",
       "      <td>10800.092660</td>\n",
       "      <td>17497.634534</td>\n",
       "      <td>4532.872520</td>\n",
       "      <td>9.482481e+06</td>\n",
       "      <td>236.0</td>\n",
       "      <td>...</td>\n",
       "      <td>1992.0</td>\n",
       "      <td>18.0</td>\n",
       "      <td>4161.523827</td>\n",
       "      <td>Daily</td>\n",
       "      <td>UPI</td>\n",
       "      <td>18.0</td>\n",
       "      <td>20.634723</td>\n",
       "      <td>5.0</td>\n",
       "      <td>9.569514e+05</td>\n",
       "      <td>0</td>\n",
       "    </tr>\n",
       "  </tbody>\n",
       "</table>\n",
       "<p>5 rows × 21 columns</p>\n",
       "</div>"
      ],
      "text/plain": [
       "  Customer_ID   Age  Location Income_Level  Total_Transactions  \\\n",
       "0   cust_0000  54.0     Urban          Low               192.0   \n",
       "1   cust_0001  67.0  Suburban         High               979.0   \n",
       "2   cust_0002  44.0     Urban         High               329.0   \n",
       "3   cust_0003  30.0     Rural         High                71.0   \n",
       "4   cust_0004  58.0     Urban       Middle               878.0   \n",
       "\n",
       "   Avg_Transaction_Value  Max_Transaction_Value  Min_Transaction_Value  \\\n",
       "0           16736.384023           60216.834510            6525.814861   \n",
       "1           14536.734683           48350.100272            2186.742245   \n",
       "2            7061.372800           32521.157187            2743.406808   \n",
       "3           16426.876453           17827.896720            4360.784994   \n",
       "4           10800.092660           17497.634534            4532.872520   \n",
       "\n",
       "    Total_Spent  Active_Days  ...  Loyalty_Points_Earned  Referral_Count  \\\n",
       "0  3.213386e+06        140.0  ...                 2114.0            25.0   \n",
       "1  1.423146e+07        229.0  ...                 2960.0            20.0   \n",
       "2  2.323192e+06         73.0  ...                 3170.0             0.0   \n",
       "3  1.166308e+06        299.0  ...                 4756.0            35.0   \n",
       "4  9.482481e+06        236.0  ...                 1992.0            18.0   \n",
       "\n",
       "   Cashback_Received  App_Usage_Frequency Preferred_Payment_Method  \\\n",
       "0        2224.012140              Monthly               Debit Card   \n",
       "1        4026.823518              Monthly                      UPI   \n",
       "2        1441.011395              Monthly               Debit Card   \n",
       "3        4365.855580               Weekly           Wallet Balance   \n",
       "4        4161.523827                Daily                      UPI   \n",
       "\n",
       "  Support_Tickets_Raised  Issue_Resolution_Time  Customer_Satisfaction_Score  \\\n",
       "0                    3.0              61.568590                          1.0   \n",
       "1                   17.0              60.392889                          8.0   \n",
       "2                   11.0              45.305579                          4.0   \n",
       "3                    6.0              22.030191                          1.0   \n",
       "4                   18.0              20.634723                          5.0   \n",
       "\n",
       "            LTV  Cluster  \n",
       "0  3.279546e+05        1  \n",
       "1  1.437053e+06        2  \n",
       "2  2.419387e+05        1  \n",
       "3  1.284599e+05        1  \n",
       "4  9.569514e+05        0  \n",
       "\n",
       "[5 rows x 21 columns]"
      ]
     },
     "execution_count": 4,
     "metadata": {},
     "output_type": "execute_result"
    }
   ],
   "source": [
    "df.head()"
   ]
  },
  {
   "cell_type": "code",
   "execution_count": 5,
   "id": "3947e803-959c-44c2-8aa7-3643bc0f49b5",
   "metadata": {},
   "outputs": [
    {
     "name": "stdout",
     "output_type": "stream",
     "text": [
      "<class 'pandas.core.frame.DataFrame'>\n",
      "RangeIndex: 7000 entries, 0 to 6999\n",
      "Data columns (total 21 columns):\n",
      " #   Column                       Non-Null Count  Dtype  \n",
      "---  ------                       --------------  -----  \n",
      " 0   Customer_ID                  7000 non-null   object \n",
      " 1   Age                          7000 non-null   float64\n",
      " 2   Location                     7000 non-null   object \n",
      " 3   Income_Level                 7000 non-null   object \n",
      " 4   Total_Transactions           7000 non-null   float64\n",
      " 5   Avg_Transaction_Value        7000 non-null   float64\n",
      " 6   Max_Transaction_Value        7000 non-null   float64\n",
      " 7   Min_Transaction_Value        7000 non-null   float64\n",
      " 8   Total_Spent                  7000 non-null   float64\n",
      " 9   Active_Days                  7000 non-null   float64\n",
      " 10  Last_Transaction_Days_Ago    7000 non-null   float64\n",
      " 11  Loyalty_Points_Earned        7000 non-null   float64\n",
      " 12  Referral_Count               7000 non-null   float64\n",
      " 13  Cashback_Received            7000 non-null   float64\n",
      " 14  App_Usage_Frequency          7000 non-null   object \n",
      " 15  Preferred_Payment_Method     7000 non-null   object \n",
      " 16  Support_Tickets_Raised       7000 non-null   float64\n",
      " 17  Issue_Resolution_Time        7000 non-null   float64\n",
      " 18  Customer_Satisfaction_Score  7000 non-null   float64\n",
      " 19  LTV                          7000 non-null   float64\n",
      " 20  Cluster                      7000 non-null   int64  \n",
      "dtypes: float64(15), int64(1), object(5)\n",
      "memory usage: 1.1+ MB\n"
     ]
    }
   ],
   "source": [
    "df.info()"
   ]
  },
  {
   "cell_type": "markdown",
   "id": "a86f409d-01c3-4796-b319-fb80faeae109",
   "metadata": {},
   "source": [
    "# 3. Data Preprocessing and Splitting"
   ]
  },
  {
   "cell_type": "markdown",
   "id": "aad9c1fc-65d6-4728-bc27-ae3a9025c0ef",
   "metadata": {},
   "source": [
    "## 3.1 Data Preprocessing"
   ]
  },
  {
   "cell_type": "markdown",
   "id": "b345761d-b345-437d-9865-5dbbae6bf1e9",
   "metadata": {},
   "source": [
    "Pada bagian ini, dilakukan pre-processing seperti pada proses clustering, mengingat data yang dieksport merupakan data awal yang hanya ditambah cluster (bukan data hasil preprocessing)"
   ]
  },
  {
   "cell_type": "code",
   "execution_count": 6,
   "id": "63599e3d-fc01-4397-b2f9-0b4082fe9124",
   "metadata": {},
   "outputs": [],
   "source": [
    "num_features = [\n",
    "    \"Age\", \"Total_Transactions\", \"Avg_Transaction_Value\", \"Total_Spent\",\n",
    "    \"Max_Transaction_Value\", \"Min_Transaction_Value\", \"Active_Days\",\n",
    "    \"Last_Transaction_Days_Ago\", \"Loyalty_Points_Earned\", \"Referral_Count\",\n",
    "    \"Cashback_Received\", \"Support_Tickets_Raised\", \"Issue_Resolution_Time\",\n",
    "    \"Customer_Satisfaction_Score\", \"LTV\"\n",
    "]\n",
    "\n",
    "cat_features = [\"Location\", \"Income_Level\", \"App_Usage_Frequency\", \"Preferred_Payment_Method\"]"
   ]
  },
  {
   "cell_type": "code",
   "execution_count": 7,
   "id": "8d76c0c9-3e10-408f-998f-3f9889cfa7f0",
   "metadata": {},
   "outputs": [],
   "source": [
    "X, y = df.iloc[:,:-1], df.iloc[:,[-1]]"
   ]
  },
  {
   "cell_type": "code",
   "execution_count": 8,
   "id": "5fb364ad-76ae-4234-8d31-a6ee1c4f764e",
   "metadata": {},
   "outputs": [],
   "source": [
    "scaler = StandardScaler()\n",
    "scaled_num = scaler.fit_transform(df[num_features])\n",
    "scaled_num_df = pd.DataFrame(scaled_num, columns=num_features)\n",
    "\n",
    "def cap_outliers_iqr(df, columns):\n",
    "    for col in columns:\n",
    "        Q1 = df[col].quantile(0.25)\n",
    "        Q3 = df[col].quantile(0.75)\n",
    "        IQR = Q3 - Q1\n",
    "        lower_bound = Q1 - 1.5 * IQR\n",
    "        upper_bound = Q3 + 1.5 * IQR\n",
    "        df[col] = np.where(df[col] < lower_bound, lower_bound, df[col])\n",
    "        df[col] = np.where(df[col] > upper_bound, upper_bound, df[col])\n",
    "    return df\n",
    "\n",
    "df = cap_outliers_iqr(X, num_features)\n",
    "\n",
    "encoder = OneHotEncoder(drop='first')\n",
    "encoded_cat = encoder.fit_transform(X[cat_features])\n",
    "encoded_cat_df = pd.DataFrame(encoded_cat.toarray(), columns=encoder.get_feature_names_out(cat_features))\n",
    "\n",
    "X = pd.concat([scaled_num_df, encoded_cat_df], axis=1)\n",
    "checkpoint_df = X.copy()"
   ]
  },
  {
   "cell_type": "markdown",
   "id": "e1ce895e-4957-4550-b5bc-be800424c0d2",
   "metadata": {},
   "source": [
    "## 3.2 Data Splitting"
   ]
  },
  {
   "cell_type": "markdown",
   "id": "f3726765-adf4-486d-aa14-93bb85c899e5",
   "metadata": {},
   "source": [
    "Dilakukan splitting data dengan menggunakan proporsi testing sebesar 20% dari keseluruhan data"
   ]
  },
  {
   "cell_type": "code",
   "execution_count": 9,
   "id": "232e812f-5328-4d6f-8462-8b2f6f5c2866",
   "metadata": {},
   "outputs": [],
   "source": [
    "X_train, X_test, y_train, y_test = train_test_split(X, y, test_size=0.2, stratify=y, random_state=42)"
   ]
  },
  {
   "cell_type": "markdown",
   "id": "f2d124a7-64e8-485a-92d4-1ca09163e644",
   "metadata": {},
   "source": [
    "# 4. Training Model"
   ]
  },
  {
   "cell_type": "markdown",
   "id": "2c7942c5-7e44-41d7-ac08-fb405266a46f",
   "metadata": {},
   "source": [
    "## 4.1 Pembuatan Model"
   ]
  },
  {
   "cell_type": "code",
   "execution_count": 10,
   "id": "2c1b995a-c83b-427e-a7bf-ae56be97bcd3",
   "metadata": {},
   "outputs": [
    {
     "name": "stdout",
     "output_type": "stream",
     "text": [
      "Model training selesai.\n"
     ]
    }
   ],
   "source": [
    "knn = KNeighborsClassifier().fit(X_train, y_train)\n",
    "dt = DecisionTreeClassifier().fit(X_train, y_train)\n",
    "rf = RandomForestClassifier().fit(X_train, y_train)\n",
    "svm = SVC().fit(X_train, y_train)\n",
    "nb = GaussianNB().fit(X_train, y_train)\n",
    " \n",
    "print(\"Model training selesai.\")"
   ]
  },
  {
   "cell_type": "markdown",
   "id": "fff45997-1dab-41c0-b982-4cd6228a3625",
   "metadata": {},
   "source": [
    "Pada langkah ini, setiap algoritma klasifikasi dilatih secara terpisah dengan menggunakan data pelatihan. Dengan membuat model `KNeighborsClassifier`, `DecisionTreeClassifier`, `RandomForestClassifier`, `SVC`, dan `GaussianNB` dipersiapkan serta dilatih"
   ]
  },
  {
   "cell_type": "markdown",
   "id": "a51abc7a-b290-45b4-bdaf-3c0967da738e",
   "metadata": {},
   "source": [
    "## 4.2 Evaluasi Model"
   ]
  },
  {
   "cell_type": "markdown",
   "id": "362b9d4a-e1f9-40c1-99e2-4b4f7f430f89",
   "metadata": {},
   "source": [
    "### 4.2.1 Evaluasi Model tanpa Crossvalidation"
   ]
  },
  {
   "cell_type": "markdown",
   "id": "f1b12701-685f-40f8-a2ce-f763d25a88a3",
   "metadata": {},
   "source": [
    "Pertama-tama, dilakukan testing pada model yang ditrain tanpa menggunakan crossvalidation"
   ]
  },
  {
   "cell_type": "code",
   "execution_count": 11,
   "id": "0187f99a-0c27-41d9-a88a-985c9cc3386e",
   "metadata": {},
   "outputs": [
    {
     "data": {
      "text/html": [
       "<div>\n",
       "<style scoped>\n",
       "    .dataframe tbody tr th:only-of-type {\n",
       "        vertical-align: middle;\n",
       "    }\n",
       "\n",
       "    .dataframe tbody tr th {\n",
       "        vertical-align: top;\n",
       "    }\n",
       "\n",
       "    .dataframe thead th {\n",
       "        text-align: right;\n",
       "    }\n",
       "</style>\n",
       "<table border=\"1\" class=\"dataframe\">\n",
       "  <thead>\n",
       "    <tr style=\"text-align: right;\">\n",
       "      <th></th>\n",
       "      <th>Accuracy</th>\n",
       "      <th>Precision</th>\n",
       "      <th>Recall</th>\n",
       "      <th>F1-Score</th>\n",
       "      <th>CM</th>\n",
       "    </tr>\n",
       "    <tr>\n",
       "      <th>Model</th>\n",
       "      <th></th>\n",
       "      <th></th>\n",
       "      <th></th>\n",
       "      <th></th>\n",
       "      <th></th>\n",
       "    </tr>\n",
       "  </thead>\n",
       "  <tbody>\n",
       "    <tr>\n",
       "      <th>KNN</th>\n",
       "      <td>0.875000</td>\n",
       "      <td>0.835499</td>\n",
       "      <td>0.787501</td>\n",
       "      <td>0.808853</td>\n",
       "      <td>[[356, 62, 0, 12], [26, 726, 0, 0], [1, 0, 62,...</td>\n",
       "    </tr>\n",
       "    <tr>\n",
       "      <th>Decision Tree</th>\n",
       "      <td>0.997143</td>\n",
       "      <td>0.997931</td>\n",
       "      <td>0.998421</td>\n",
       "      <td>0.998174</td>\n",
       "      <td>[[429, 1, 0, 0], [3, 749, 0, 0], [0, 0, 81, 0]...</td>\n",
       "    </tr>\n",
       "    <tr>\n",
       "      <th>Random Forest</th>\n",
       "      <td>0.998571</td>\n",
       "      <td>0.997607</td>\n",
       "      <td>0.999086</td>\n",
       "      <td>0.998343</td>\n",
       "      <td>[[429, 0, 0, 1], [1, 751, 0, 0], [0, 0, 81, 0]...</td>\n",
       "    </tr>\n",
       "    <tr>\n",
       "      <th>Support Vector Machine</th>\n",
       "      <td>0.970000</td>\n",
       "      <td>0.962446</td>\n",
       "      <td>0.952899</td>\n",
       "      <td>0.957390</td>\n",
       "      <td>[[414, 14, 0, 2], [9, 743, 0, 0], [0, 0, 78, 3...</td>\n",
       "    </tr>\n",
       "    <tr>\n",
       "      <th>Naive Bayes</th>\n",
       "      <td>0.974286</td>\n",
       "      <td>0.967046</td>\n",
       "      <td>0.984050</td>\n",
       "      <td>0.975209</td>\n",
       "      <td>[[420, 1, 0, 9], [25, 727, 0, 0], [0, 0, 81, 0...</td>\n",
       "    </tr>\n",
       "  </tbody>\n",
       "</table>\n",
       "</div>"
      ],
      "text/plain": [
       "                        Accuracy  Precision    Recall  F1-Score  \\\n",
       "Model                                                             \n",
       "KNN                     0.875000   0.835499  0.787501  0.808853   \n",
       "Decision Tree           0.997143   0.997931  0.998421  0.998174   \n",
       "Random Forest           0.998571   0.997607  0.999086  0.998343   \n",
       "Support Vector Machine  0.970000   0.962446  0.952899  0.957390   \n",
       "Naive Bayes             0.974286   0.967046  0.984050  0.975209   \n",
       "\n",
       "                                                                       CM  \n",
       "Model                                                                      \n",
       "KNN                     [[356, 62, 0, 12], [26, 726, 0, 0], [1, 0, 62,...  \n",
       "Decision Tree           [[429, 1, 0, 0], [3, 749, 0, 0], [0, 0, 81, 0]...  \n",
       "Random Forest           [[429, 0, 0, 1], [1, 751, 0, 0], [0, 0, 81, 0]...  \n",
       "Support Vector Machine  [[414, 14, 0, 2], [9, 743, 0, 0], [0, 0, 78, 3...  \n",
       "Naive Bayes             [[420, 1, 0, 9], [25, 727, 0, 0], [0, 0, 81, 0...  "
      ]
     },
     "execution_count": 11,
     "metadata": {},
     "output_type": "execute_result"
    }
   ],
   "source": [
    "from sklearn.metrics import accuracy_score, precision_score, recall_score, f1_score, confusion_matrix\n",
    "\n",
    "def evaluate_model(model, X_test, y_test):\n",
    "    y_pred = model.predict(X_test)\n",
    "    cm = confusion_matrix(y_test, y_pred)\n",
    "\n",
    "    results = {\n",
    "        'Accuracy': accuracy_score(y_test, y_pred),\n",
    "        'Precision': precision_score(y_test, y_pred, average='macro'),  # Handle multiclass\n",
    "        'Recall': recall_score(y_test, y_pred, average='macro'),\n",
    "        'F1-Score': f1_score(y_test, y_pred, average='macro'),\n",
    "        \"cm\" : cm\n",
    "    }\n",
    "    \n",
    "    return results\n",
    "\n",
    "summary_df = pd.DataFrame(columns=['Model', 'Accuracy', 'Precision', 'Recall', 'F1-Score'])\n",
    "\n",
    "models = {\"KNN\": knn, \n",
    "          \"Decision Tree\": dt,\n",
    "          \"Random Forest\": rf,\n",
    "          \"Support Vector Machine\": svm,\n",
    "          \"Naive Bayes\": nb}\n",
    "\n",
    "rows = []\n",
    "for model_name, model in models.items():\n",
    "    metrics = evaluate_model(model, X_test, y_test)\n",
    "    rows.append({\n",
    "        'Model': model_name,\n",
    "        'Accuracy': metrics.get('Accuracy', None),\n",
    "        'Precision': metrics.get('Precision', None),\n",
    "        'Recall': metrics.get('Recall', None),\n",
    "        'F1-Score': metrics.get('F1-Score', None),\n",
    "        \"CM\": metrics.get(\"cm\", None)\n",
    "    })\n",
    "\n",
    "summary_df = pd.DataFrame(rows).set_index(\"Model\")\n",
    "summary_df"
   ]
  },
  {
   "cell_type": "markdown",
   "id": "63ee2d7f-ab61-4942-9330-e2e633d9cc33",
   "metadata": {},
   "source": [
    "Dapat terlihat bahwa hasil yang diperloleh dari train-test model yang ada mendapatkan hasil yang sangat baik pada hampir seluruh model. Model yang memiliki metrik precision terbaik dan F1-Score terbaik adalah model `Decision Tree` disusul oleh model `Random Forest`. Lebih lanjut, visualisasi dari confusion matrix dilakukan di bawah"
   ]
  },
  {
   "cell_type": "code",
   "execution_count": 12,
   "id": "19391262-03d9-48c5-b293-a631842c8c23",
   "metadata": {},
   "outputs": [
    {
     "data": {
      "image/png": "[encoded data removed]",
      "text/plain": [
       "<Figure size 600x500 with 1 Axes>"
      ]
     },
     "metadata": {},
     "output_type": "display_data"
    },
    {
     "data": {
      "image/png": "[encoded data removed]",
      "text/plain": [
       "<Figure size 600x500 with 1 Axes>"
      ]
     },
     "metadata": {},
     "output_type": "display_data"
    },
    {
     "data": {
      "image/png": "[encoded data removed]",
      "text/plain": [
       "<Figure size 600x500 with 1 Axes>"
      ]
     },
     "metadata": {},
     "output_type": "display_data"
    },
    {
     "data": {
      "image/png": "[encoded data removed]",
      "text/plain": [
       "<Figure size 600x500 with 1 Axes>"
      ]
     },
     "metadata": {},
     "output_type": "display_data"
    },
    {
     "data": {
      "image/png": "[encoded data removed]",
      "text/plain": [
       "<Figure size 600x500 with 1 Axes>"
      ]
     },
     "metadata": {},
     "output_type": "display_data"
    }
   ],
   "source": [
    "import seaborn as sns\n",
    "import matplotlib.pyplot as plt\n",
    "import numpy as np\n",
    "from sklearn.metrics import ConfusionMatrixDisplay\n",
    "\n",
    "def plot_confusion_matrix(model, X_test, y_test, model_name):\n",
    "    y_pred = model.predict(X_test)\n",
    "    cm = confusion_matrix(y_test, y_pred)\n",
    "    \n",
    "    plt.figure(figsize=(6,5))\n",
    "    sns.heatmap(cm, annot=True, fmt='d', cmap='Blues', cbar=False)\n",
    "    plt.xlabel('Predicted Label')\n",
    "    plt.ylabel('True Label')\n",
    "    plt.title(f'Confusion Matrix - {model_name}')\n",
    "    plt.show()\n",
    "\n",
    "for model_name, model in models.items():\n",
    "    plot_confusion_matrix(model, X_test, y_test, model_name)"
   ]
  },
  {
   "cell_type": "markdown",
   "id": "bdb40dc5-079d-4220-84b7-8ea80391de73",
   "metadata": {},
   "source": [
    "### 4.2.2 Evaluasi Model Dengan Crossvalidation"
   ]
  },
  {
   "cell_type": "markdown",
   "id": "94373722-fcf1-4359-84af-6ead51147199",
   "metadata": {},
   "source": [
    "Kali ini, dilakukan evaluasi model yang dilatih dengan menggunakan crossvalidation"
   ]
  },
  {
   "cell_type": "code",
   "execution_count": 13,
   "id": "c2c9908c-4888-499d-826d-c91952c69670",
   "metadata": {},
   "outputs": [
    {
     "data": {
      "text/html": [
       "<div>\n",
       "<style scoped>\n",
       "    .dataframe tbody tr th:only-of-type {\n",
       "        vertical-align: middle;\n",
       "    }\n",
       "\n",
       "    .dataframe tbody tr th {\n",
       "        vertical-align: top;\n",
       "    }\n",
       "\n",
       "    .dataframe thead th {\n",
       "        text-align: right;\n",
       "    }\n",
       "</style>\n",
       "<table border=\"1\" class=\"dataframe\">\n",
       "  <thead>\n",
       "    <tr style=\"text-align: right;\">\n",
       "      <th></th>\n",
       "      <th>Mean Accuracy</th>\n",
       "      <th>Std Accuracy</th>\n",
       "      <th>Mean Precision</th>\n",
       "      <th>Std Precision</th>\n",
       "      <th>Mean Recall</th>\n",
       "      <th>Std Recall</th>\n",
       "      <th>Mean F1-Score</th>\n",
       "      <th>Std F1-Score</th>\n",
       "    </tr>\n",
       "  </thead>\n",
       "  <tbody>\n",
       "    <tr>\n",
       "      <th>K-Nearest Neighbors (KNN)</th>\n",
       "      <td>0.861964</td>\n",
       "      <td>0.008538</td>\n",
       "      <td>0.799852</td>\n",
       "      <td>0.018670</td>\n",
       "      <td>0.753417</td>\n",
       "      <td>0.021543</td>\n",
       "      <td>0.773112</td>\n",
       "      <td>0.019597</td>\n",
       "    </tr>\n",
       "    <tr>\n",
       "      <th>Decision Tree (DT)</th>\n",
       "      <td>0.998929</td>\n",
       "      <td>0.000357</td>\n",
       "      <td>0.999316</td>\n",
       "      <td>0.000268</td>\n",
       "      <td>0.998939</td>\n",
       "      <td>0.000658</td>\n",
       "      <td>0.999126</td>\n",
       "      <td>0.000389</td>\n",
       "    </tr>\n",
       "    <tr>\n",
       "      <th>Random Forest (RF)</th>\n",
       "      <td>0.999286</td>\n",
       "      <td>0.000668</td>\n",
       "      <td>0.999234</td>\n",
       "      <td>0.000861</td>\n",
       "      <td>0.999481</td>\n",
       "      <td>0.000450</td>\n",
       "      <td>0.999356</td>\n",
       "      <td>0.000604</td>\n",
       "    </tr>\n",
       "    <tr>\n",
       "      <th>Support Vector Machine (SVM)</th>\n",
       "      <td>0.964643</td>\n",
       "      <td>0.002563</td>\n",
       "      <td>0.949287</td>\n",
       "      <td>0.008433</td>\n",
       "      <td>0.935353</td>\n",
       "      <td>0.007633</td>\n",
       "      <td>0.941804</td>\n",
       "      <td>0.007474</td>\n",
       "    </tr>\n",
       "    <tr>\n",
       "      <th>Naive Bayes (NB)</th>\n",
       "      <td>0.969821</td>\n",
       "      <td>0.004704</td>\n",
       "      <td>0.951747</td>\n",
       "      <td>0.010040</td>\n",
       "      <td>0.973982</td>\n",
       "      <td>0.004592</td>\n",
       "      <td>0.962237</td>\n",
       "      <td>0.007401</td>\n",
       "    </tr>\n",
       "  </tbody>\n",
       "</table>\n",
       "</div>"
      ],
      "text/plain": [
       "                              Mean Accuracy  Std Accuracy  Mean Precision  \\\n",
       "K-Nearest Neighbors (KNN)          0.861964      0.008538        0.799852   \n",
       "Decision Tree (DT)                 0.998929      0.000357        0.999316   \n",
       "Random Forest (RF)                 0.999286      0.000668        0.999234   \n",
       "Support Vector Machine (SVM)       0.964643      0.002563        0.949287   \n",
       "Naive Bayes (NB)                   0.969821      0.004704        0.951747   \n",
       "\n",
       "                              Std Precision  Mean Recall  Std Recall  \\\n",
       "K-Nearest Neighbors (KNN)          0.018670     0.753417    0.021543   \n",
       "Decision Tree (DT)                 0.000268     0.998939    0.000658   \n",
       "Random Forest (RF)                 0.000861     0.999481    0.000450   \n",
       "Support Vector Machine (SVM)       0.008433     0.935353    0.007633   \n",
       "Naive Bayes (NB)                   0.010040     0.973982    0.004592   \n",
       "\n",
       "                              Mean F1-Score  Std F1-Score  \n",
       "K-Nearest Neighbors (KNN)          0.773112      0.019597  \n",
       "Decision Tree (DT)                 0.999126      0.000389  \n",
       "Random Forest (RF)                 0.999356      0.000604  \n",
       "Support Vector Machine (SVM)       0.941804      0.007474  \n",
       "Naive Bayes (NB)                   0.962237      0.007401  "
      ]
     },
     "execution_count": 13,
     "metadata": {},
     "output_type": "execute_result"
    }
   ],
   "source": [
    "models = {\n",
    "    'K-Nearest Neighbors (KNN)': KNeighborsClassifier(),\n",
    "    'Decision Tree (DT)': DecisionTreeClassifier(),\n",
    "    'Random Forest (RF)': RandomForestClassifier(),\n",
    "    'Support Vector Machine (SVM)': SVC(),\n",
    "    'Naive Bayes (NB)': GaussianNB()\n",
    "}\n",
    "\n",
    "scoring = {\n",
    "    'Accuracy': make_scorer(accuracy_score),\n",
    "    'Precision': make_scorer(precision_score, average='macro'),  # Handles multiclass\n",
    "    'Recall': make_scorer(recall_score, average='macro'),\n",
    "    'F1-Score': make_scorer(f1_score, average='macro')\n",
    "}\n",
    "\n",
    "k = 5\n",
    "skf = StratifiedKFold(n_splits=k, shuffle=True, random_state=123)\n",
    "cv_results = {}\n",
    "\n",
    "for name, model in models.items():\n",
    "    scores = cross_validate(model, X_train, y_train, cv=skf, scoring=scoring)\n",
    "    \n",
    "    cv_results[name] = {\n",
    "        'Mean Accuracy': np.mean(scores['test_Accuracy']),\n",
    "        'Std Accuracy': np.std(scores['test_Accuracy']),\n",
    "        'Mean Precision': np.mean(scores['test_Precision']),\n",
    "        'Std Precision': np.std(scores['test_Precision']),\n",
    "        'Mean Recall': np.mean(scores['test_Recall']),\n",
    "        'Std Recall': np.std(scores['test_Recall']),\n",
    "        'Mean F1-Score': np.mean(scores['test_F1-Score']),\n",
    "        'Std F1-Score': np.std(scores['test_F1-Score']),\n",
    "    }\n",
    "\n",
    "cv_summary = pd.DataFrame(cv_results).T\n",
    "cv_summary"
   ]
  },
  {
   "cell_type": "markdown",
   "id": "b0489f9e-e962-442a-bc0f-455bd1be322b",
   "metadata": {},
   "source": [
    "didapat bahwa hasil evaluasi model yang dilatih dengan menggunakan Crossvalidation menghasilkan metrik yang konsisten sebagaimana pada poin 4.1.1. Ini menandakan bahwa model tidak mengalami overfitting. Dilihat juga dengan menggunakan rata-rata dari setiap metrik yang ada, didapat bahwa model `Random Forest` memiliki metrik terbaik, disusul dengan model `Decision Tree`"
   ]
  },
  {
   "cell_type": "markdown",
   "id": "24a4a892-6292-4454-90b7-e1a03d4d06a3",
   "metadata": {},
   "source": [
    "## 4.3 Tuning Model Klasifikasi"
   ]
  },
  {
   "cell_type": "markdown",
   "id": "8c64fd4a-e067-4f25-93db-117856c90ce9",
   "metadata": {},
   "source": [
    "karena hasil yang didapat dari model sudah sangat baik, maka tidak diperlukan tuning model"
   ]
  },
  {
   "cell_type": "markdown",
   "id": "3d409c23-d159-41c2-b7b2-89801e03c87c",
   "metadata": {},
   "source": [
    "## 4.4 Evaluasi Model setelah Tuning Klasifikasi"
   ]
  },
  {
   "cell_type": "markdown",
   "id": "9be9a4b8-1581-470b-bf8b-390a9e6dfe25",
   "metadata": {},
   "source": [
    "karena tidak ada tuning pada model, maka tidak perlu dievaluasi hasil tuningnya"
   ]
  },
  {
   "cell_type": "markdown",
   "id": "d0c825ff-e499-4373-8933-479eacbcb864",
   "metadata": {},
   "source": [
    "## 4.5 Analisis Hasil Evaluasi Model Klasifikasi (dan Kesimpulannya)"
   ]
  },
  {
   "cell_type": "markdown",
   "id": "d4d914c9-2d1e-4bd7-9418-d88c0e21f62b",
   "metadata": {},
   "source": [
    "#### Insights dari Train-test split\n",
    "* Decision Tree dan Random Forest memiliki performa terbaik dengan accuracy hampir sempurna (~99.8%).\n",
    "* Naïve Bayes memiliki recall tinggi (0.9841) yang berarti model ini sangat baik dalam menangkap semua kelas, namun precision-nya sedikit lebih rendah dibandingkan Decision Tree.\n",
    "* SVM dan KNN memiliki performa yang lebih rendah dibanding model berbasis pohon keputusan, dengan KNN menjadi yang paling rendah (accuracy 87.5%).\n",
    "#### Insights dari Cross-Validation\n",
    "* Random Forest memiliki performa terbaik secara konsisten dengan akurasi mendekati 100% dan variabilitas (standar deviasi) yang sangat kecil, menandakan model ini sangat stabil dan tidak rentan terhadap overfitting.\n",
    "* Decision Tree juga memiliki performa tinggi, tetapi sedikit lebih rendah dari Random Forest.\n",
    "* KNN tetap menjadi model dengan performa terendah, dengan accuracy 86.2% dan standar deviasi cukup tinggi, menunjukkan model ini kurang stabil dibandingkan model lainnya.\n",
    "* Naïve Bayes memiliki recall yang tinggi (97.4%) tetapi precision yang lebih rendah (95.2%), artinya model ini lebih baik dalam menangkap semua kelas tetapi sedikit kurang akurat dalam klasifikasinya."
   ]
  },
  {
   "cell_type": "markdown",
   "id": "41681133-a80a-47c9-9c26-799061fdb84a",
   "metadata": {},
   "source": [
    "# 5. Kesimpulan"
   ]
  },
  {
   "cell_type": "markdown",
   "id": "c4e677f4-a774-4498-93e6-e3fc537b0ff4",
   "metadata": {},
   "source": [
    "Berdasarkan hasil pelatihan model menggunakan data hasil clustering, didapat kesimpulan sebagai berikut:\n",
    "1. Model terbaik untuk tugas klasifikasi ini adalah Random Forest, karena memiliki:\n",
    "   * Akurasi tertinggi (mencapai 99.96%)\n",
    "   * Standar deviasi rendah, yang berarti model ini stabil di berbagai subset data\n",
    "   * F1-score tinggi, menunjukkan keseimbangan antara precision dan recall\n",
    "2. Decision Tree juga merupakan alternatif yang baik, dengan performa mendekati Random Forest tetapi sedikit kurang stabil.\n",
    "3. Naïve Bayes bisa menjadi pilihan jika prioritasnya adalah Recall, karena model ini menangkap lebih banyak data positif dibandingkan model lainnya.\n",
    "4. SVM dan KNN tidak direkomendasikan untuk dataset ini, karena memiliki performa lebih rendah dibandingkan model berbasis pohon keputusan.\n",
    "\n",
    "Jika diinginkan model yang paling akurat, stabil, dan tidak overfitting, maka `Random Forest` adalah pilihan terbaik. Sementara itu, jika diinginkan model yang lebih sederhana dengan performa mendekati Random Forest, Decision Tree bisa dipertimbangkan."
   ]
  }
 ],
 "metadata": {
  "kernelspec": {
   "display_name": "Python 3 (ipykernel)",
   "language": "python",
   "name": "python3"
  },
  "language_info": {
   "codemirror_mode": {
    "name": "ipython",
    "version": 3
   },
   "file_extension": ".py",
   "mimetype": "text/x-python",
   "name": "python",
   "nbconvert_exporter": "python",
   "pygments_lexer": "ipython3",
   "version": "3.11.0"
  }
 },
 "nbformat": 4,
 "nbformat_minor": 5
}
